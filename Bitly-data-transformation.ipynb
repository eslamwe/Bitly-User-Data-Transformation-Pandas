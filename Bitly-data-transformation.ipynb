{
  "cells": [
    {
      "cell_type": "markdown",
      "metadata": {
        "id": "e4sQWDOlSQis"
      },
      "source": [
        "### Problem Descripition \n",
        "\n",
        "In 2012, URL shortening service Bitly partnered with the US government website USA.gov to provide a feed of anonymous data gathered from users who shorten links ending with .gov or .mil.\n",
        "\n",
        "The text file comes in JSON format and here are some keys and their description. They are only the most important ones for this task."
      ]
    },
    {
      "cell_type": "markdown",
      "metadata": {
        "id": "bpMBMUhESQiw"
      },
      "source": [
        "|key| description |\n",
        "|---|-----------|\n",
        "| a|Denotes information about the web browser and operating system|\n",
        "| tz | time zone |\n",
        "| r | URL the user come from |\n",
        "| u | URL where the user headed to |\n",
        "| t | Timestamp when the user start using the website in UNIX format |\n",
        "| hc | Timestamp when user exit the website in UNIX format |\n",
        "| cy | City from which the request intiated |\n",
        "| ll | Longitude and Latitude |"
      ]
    },
    {
      "cell_type": "markdown",
      "metadata": {
        "id": "iGZDKw1XSQix"
      },
      "source": [
        "In the cell, I tried to provide some helper code for better understanding and clearer vision\n",
        "\n",
        "-**HINT**- Those lines of code may be not helping at all with your task."
      ]
    },
    {
      "cell_type": "code",
      "execution_count": 1,
      "metadata": {
        "id": "5MnEG2tKSQix",
        "outputId": "a90ab440-6871-4b3a-b631-c6d585229a29"
      },
      "outputs": [
        {
          "data": {
            "text/plain": [
              "{'a': 'Mozilla/5.0 (Windows NT 6.1; WOW64) AppleWebKit/535.11 (KHTML, like Gecko) Chrome/17.0.963.78 Safari/535.11',\n",
              " 'c': 'US',\n",
              " 'nk': 1,\n",
              " 'tz': 'America/New_York',\n",
              " 'gr': 'MA',\n",
              " 'g': 'A6qOVH',\n",
              " 'h': 'wfLQtf',\n",
              " 'l': 'orofrog',\n",
              " 'al': 'en-US,en;q=0.8',\n",
              " 'hh': '1.usa.gov',\n",
              " 'r': 'http://www.facebook.com/l/7AQEFzjSi/1.usa.gov/wfLQtf',\n",
              " 'u': 'http://www.ncbi.nlm.nih.gov/pubmed/22415991',\n",
              " 't': 1333307030,\n",
              " 'hc': 1333307037,\n",
              " 'cy': 'Danvers',\n",
              " 'll': [42.576698, -70.954903]}"
            ]
          },
          "execution_count": 1,
          "metadata": {},
          "output_type": "execute_result"
        }
      ],
      "source": [
        "# I will try to retrieve one instance of the file in a list of dictionaries\n",
        "import json\n",
        "records = [json.loads(line) for line in open('usa.gov_click_data.json')]\n",
        "# Print the first occurance\n",
        "records[0]"
      ]
    },
    {
      "attachments": {},
      "cell_type": "markdown",
      "metadata": {
        "id": "q2QF5UDzSQiy"
      },
      "source": [
        "# Required"
      ]
    },
    {
      "cell_type": "markdown",
      "metadata": {
        "id": "Rd8Bcit8SQiz"
      },
      "source": [
        "Write a script can transform the JSON files to a DataFrame and commit each file to a sparete CSV file in the target directory and consider the following:\n",
        "\n",
        "        "
      ]
    },
    {
      "cell_type": "markdown",
      "metadata": {
        "id": "kNLrS5FqSQiz"
      },
      "source": [
        "All CSV files must have the following columns\n",
        "- web_browser\n",
        "        The web browser that has requested the service\n",
        "- operating_sys\n",
        "        operating system that intiated this request\n",
        "- from_url\n",
        "\n",
        "        The main URL the user came from\n",
        "\n",
        "    **note**:\n",
        "\n",
        "    If the retrived URL was in a long format `http://www.facebook.com/l/7AQEFzjSi/1.usa.gov/wfLQtf`\n",
        "\n",
        "     make it appear in the file in a short format like this `www.facebook.com`\n",
        "     \n",
        "    \n",
        "- to_url\n",
        "\n",
        "       The same applied like `to_url`\n",
        "   \n",
        "- city\n",
        "\n",
        "        The city from which the the request was sent\n",
        "    \n",
        "- longitude\n",
        "\n",
        "        The longitude where the request was sent\n",
        "- latitude\n",
        "\n",
        "        The latitude where the request was sent\n",
        "\n",
        "- time_zone\n",
        "        \n",
        "        The time zone that the city follow\n",
        "        \n",
        "- time_in\n",
        "\n",
        "        Time when the request started\n",
        "- time_out\n",
        "        \n",
        "        Time when the request is ended\n",
        "        \n",
        "        \n",
        "**NOTE** :\n",
        "\n",
        "Because that some instances of the file are incomplete, you may encouter some NaN values in your transforamtion. Make sure that the final dataframes have no NaNs at all."
      ]
    },
    {
      "attachments": {},
      "cell_type": "markdown",
      "metadata": {},
      "source": [
        "# Imports"
      ]
    },
    {
      "cell_type": "code",
      "execution_count": 1,
      "metadata": {},
      "outputs": [],
      "source": [
        "import pandas as pd\n",
        "import httpagentparser"
      ]
    },
    {
      "attachments": {},
      "cell_type": "markdown",
      "metadata": {},
      "source": [
        "# Data"
      ]
    },
    {
      "cell_type": "code",
      "execution_count": 2,
      "metadata": {},
      "outputs": [],
      "source": [
        "records = pd.read_json('usa.gov_click_data.json', lines=True)"
      ]
    },
    {
      "cell_type": "code",
      "execution_count": 3,
      "metadata": {},
      "outputs": [
        {
          "name": "stdout",
          "output_type": "stream",
          "text": [
            "<class 'pandas.core.frame.DataFrame'>\n",
            "RangeIndex: 12 entries, 0 to 11\n",
            "Data columns (total 16 columns):\n",
            " #   Column  Non-Null Count  Dtype \n",
            "---  ------  --------------  ----- \n",
            " 0   a       12 non-null     object\n",
            " 1   c       9 non-null      object\n",
            " 2   nk      12 non-null     int64 \n",
            " 3   tz      12 non-null     object\n",
            " 4   gr      9 non-null      object\n",
            " 5   g       12 non-null     object\n",
            " 6   h       12 non-null     object\n",
            " 7   l       12 non-null     object\n",
            " 8   al      11 non-null     object\n",
            " 9   hh      12 non-null     object\n",
            " 10  r       12 non-null     object\n",
            " 11  u       12 non-null     object\n",
            " 12  t       12 non-null     int64 \n",
            " 13  hc      12 non-null     int64 \n",
            " 14  cy      9 non-null      object\n",
            " 15  ll      9 non-null      object\n",
            "dtypes: int64(3), object(13)\n",
            "memory usage: 1.6+ KB\n"
          ]
        }
      ],
      "source": [
        "records.info()"
      ]
    },
    {
      "cell_type": "code",
      "execution_count": 4,
      "metadata": {},
      "outputs": [
        {
          "data": {
            "text/html": [
              "<div>\n",
              "<style scoped>\n",
              "    .dataframe tbody tr th:only-of-type {\n",
              "        vertical-align: middle;\n",
              "    }\n",
              "\n",
              "    .dataframe tbody tr th {\n",
              "        vertical-align: top;\n",
              "    }\n",
              "\n",
              "    .dataframe thead th {\n",
              "        text-align: right;\n",
              "    }\n",
              "</style>\n",
              "<table border=\"1\" class=\"dataframe\">\n",
              "  <thead>\n",
              "    <tr style=\"text-align: right;\">\n",
              "      <th></th>\n",
              "      <th>a</th>\n",
              "      <th>c</th>\n",
              "      <th>nk</th>\n",
              "      <th>tz</th>\n",
              "      <th>gr</th>\n",
              "      <th>g</th>\n",
              "      <th>h</th>\n",
              "      <th>l</th>\n",
              "      <th>al</th>\n",
              "      <th>hh</th>\n",
              "      <th>r</th>\n",
              "      <th>u</th>\n",
              "      <th>t</th>\n",
              "      <th>hc</th>\n",
              "      <th>cy</th>\n",
              "      <th>ll</th>\n",
              "    </tr>\n",
              "  </thead>\n",
              "  <tbody>\n",
              "    <tr>\n",
              "      <th>0</th>\n",
              "      <td>Mozilla/5.0 (Windows NT 6.1; WOW64) AppleWebKi...</td>\n",
              "      <td>US</td>\n",
              "      <td>1</td>\n",
              "      <td>America/New_York</td>\n",
              "      <td>MA</td>\n",
              "      <td>A6qOVH</td>\n",
              "      <td>wfLQtf</td>\n",
              "      <td>orofrog</td>\n",
              "      <td>en-US,en;q=0.8</td>\n",
              "      <td>1.usa.gov</td>\n",
              "      <td>http://www.facebook.com/l/7AQEFzjSi/1.usa.gov/...</td>\n",
              "      <td>http://www.ncbi.nlm.nih.gov/pubmed/22415991</td>\n",
              "      <td>1333307030</td>\n",
              "      <td>1333307037</td>\n",
              "      <td>Danvers</td>\n",
              "      <td>[42.576698, -70.954903]</td>\n",
              "    </tr>\n",
              "    <tr>\n",
              "      <th>1</th>\n",
              "      <td>GoogleMaps/RochesterNY</td>\n",
              "      <td>US</td>\n",
              "      <td>0</td>\n",
              "      <td>America/Denver</td>\n",
              "      <td>UT</td>\n",
              "      <td>mwszkS</td>\n",
              "      <td>mwszkS</td>\n",
              "      <td>bitly</td>\n",
              "      <td>NaN</td>\n",
              "      <td>j.mp</td>\n",
              "      <td>http://www.AwareMap.com/</td>\n",
              "      <td>http://www.monroecounty.gov/etc/911/rss.php</td>\n",
              "      <td>1331923249</td>\n",
              "      <td>1308262393</td>\n",
              "      <td>Provo</td>\n",
              "      <td>[40.218102, -111.613297]</td>\n",
              "    </tr>\n",
              "    <tr>\n",
              "      <th>2</th>\n",
              "      <td>Mozilla/4.0 (Windows NT 6.1; MSIE 8.0; Windows...</td>\n",
              "      <td>US</td>\n",
              "      <td>1</td>\n",
              "      <td>America/New_York</td>\n",
              "      <td>DC</td>\n",
              "      <td>xxr3Qb</td>\n",
              "      <td>xxr3Qb</td>\n",
              "      <td>bitly</td>\n",
              "      <td>en-US</td>\n",
              "      <td>1.usa.gov</td>\n",
              "      <td>http://t.co/03elZC4Q</td>\n",
              "      <td>http://boxer.senate.gov/en/press/releases/0316...</td>\n",
              "      <td>1333407030</td>\n",
              "      <td>1333407035</td>\n",
              "      <td>Washington</td>\n",
              "      <td>[38.9007, -77.043098]</td>\n",
              "    </tr>\n",
              "    <tr>\n",
              "      <th>3</th>\n",
              "      <td>Mozilla/5.0 (Macintosh; Intel Mac OS X 10_6_8)...</td>\n",
              "      <td>BR</td>\n",
              "      <td>0</td>\n",
              "      <td>America/Sao_Paulo</td>\n",
              "      <td>27</td>\n",
              "      <td>zCaLwp</td>\n",
              "      <td>zUtuOu</td>\n",
              "      <td>alelex88</td>\n",
              "      <td>pt-br</td>\n",
              "      <td>1.usa.gov</td>\n",
              "      <td>direct</td>\n",
              "      <td>http://apod.nasa.gov/apod/ap120312.html</td>\n",
              "      <td>1333507030</td>\n",
              "      <td>1333507044</td>\n",
              "      <td>Braz</td>\n",
              "      <td>[-23.549999, -46.616699]</td>\n",
              "    </tr>\n",
              "    <tr>\n",
              "      <th>4</th>\n",
              "      <td>Mozilla/5.0 (Windows NT 6.1; WOW64) AppleWebKi...</td>\n",
              "      <td>US</td>\n",
              "      <td>0</td>\n",
              "      <td>America/New_York</td>\n",
              "      <td>MA</td>\n",
              "      <td>9b6kNl</td>\n",
              "      <td>9b6kNl</td>\n",
              "      <td>bitly</td>\n",
              "      <td>en-US,en;q=0.8</td>\n",
              "      <td>bit.ly</td>\n",
              "      <td>http://www.shrewsbury-ma.gov/selco/</td>\n",
              "      <td>http://www.shrewsbury-ma.gov/egov/gallery/1341...</td>\n",
              "      <td>1333607030</td>\n",
              "      <td>1333607039</td>\n",
              "      <td>Shrewsbury</td>\n",
              "      <td>[42.286499, -71.714699]</td>\n",
              "    </tr>\n",
              "    <tr>\n",
              "      <th>5</th>\n",
              "      <td>Mozilla/5.0 (Windows NT 6.1; WOW64) AppleWebKi...</td>\n",
              "      <td>US</td>\n",
              "      <td>0</td>\n",
              "      <td>America/New_York</td>\n",
              "      <td>MA</td>\n",
              "      <td>axNK8c</td>\n",
              "      <td>axNK8c</td>\n",
              "      <td>bitly</td>\n",
              "      <td>en-US,en;q=0.8</td>\n",
              "      <td>bit.ly</td>\n",
              "      <td>http://www.shrewsbury-ma.gov/selco/</td>\n",
              "      <td>http://www.shrewsbury-ma.gov/egov/gallery/1341...</td>\n",
              "      <td>1333707030</td>\n",
              "      <td>1333707048</td>\n",
              "      <td>Shrewsbury</td>\n",
              "      <td>[42.286499, -71.714699]</td>\n",
              "    </tr>\n",
              "    <tr>\n",
              "      <th>6</th>\n",
              "      <td>Mozilla/5.0 (Windows NT 5.1) AppleWebKit/535.1...</td>\n",
              "      <td>PL</td>\n",
              "      <td>0</td>\n",
              "      <td>Europe/Warsaw</td>\n",
              "      <td>77</td>\n",
              "      <td>wcndER</td>\n",
              "      <td>zkpJBR</td>\n",
              "      <td>bnjacobs</td>\n",
              "      <td>pl-PL,pl;q=0.8,en-US;q=0.6,en;q=0.4</td>\n",
              "      <td>1.usa.gov</td>\n",
              "      <td>http://plus.url.google.com/url?sa=z&amp;n=13319232...</td>\n",
              "      <td>http://www.nasa.gov/mission_pages/nustar/main/...</td>\n",
              "      <td>1333807030</td>\n",
              "      <td>1333807040</td>\n",
              "      <td>Luban</td>\n",
              "      <td>[51.116699, 15.2833]</td>\n",
              "    </tr>\n",
              "    <tr>\n",
              "      <th>7</th>\n",
              "      <td>Mozilla/5.0 (Windows NT 6.1; rv:2.0.1) Gecko/2...</td>\n",
              "      <td>None</td>\n",
              "      <td>0</td>\n",
              "      <td></td>\n",
              "      <td>NaN</td>\n",
              "      <td>wcndER</td>\n",
              "      <td>zkpJBR</td>\n",
              "      <td>bnjacobs</td>\n",
              "      <td>bg,en-us;q=0.7,en;q=0.3</td>\n",
              "      <td>1.usa.gov</td>\n",
              "      <td>http://www.facebook.com/</td>\n",
              "      <td>http://www.nasa.gov/mission_pages/nustar/main/...</td>\n",
              "      <td>1334007036</td>\n",
              "      <td>13340070364</td>\n",
              "      <td>NaN</td>\n",
              "      <td>NaN</td>\n",
              "    </tr>\n",
              "    <tr>\n",
              "      <th>8</th>\n",
              "      <td>Opera/9.80 (Ubuntu 14.04.6; Linux zbov; U; en)...</td>\n",
              "      <td>None</td>\n",
              "      <td>0</td>\n",
              "      <td></td>\n",
              "      <td>NaN</td>\n",
              "      <td>wcndER</td>\n",
              "      <td>zkpJBR</td>\n",
              "      <td>bnjacobs</td>\n",
              "      <td>en-US, en</td>\n",
              "      <td>1.usa.gov</td>\n",
              "      <td>http://www.facebook.com/l.php?u=http%3A%2F%2F1...</td>\n",
              "      <td>http://www.nasa.gov/mission_pages/nustar/main/...</td>\n",
              "      <td>1333907030</td>\n",
              "      <td>1333907042</td>\n",
              "      <td>NaN</td>\n",
              "      <td>NaN</td>\n",
              "    </tr>\n",
              "    <tr>\n",
              "      <th>9</th>\n",
              "      <td>Mozilla/5.0 (Windows NT 6.1; WOW64) AppleWebKi...</td>\n",
              "      <td>None</td>\n",
              "      <td>0</td>\n",
              "      <td></td>\n",
              "      <td>NaN</td>\n",
              "      <td>zCaLwp</td>\n",
              "      <td>zUtuOu</td>\n",
              "      <td>alelex88</td>\n",
              "      <td>pt-BR,pt;q=0.8,en-US;q=0.6,en;q=0.4</td>\n",
              "      <td>1.usa.gov</td>\n",
              "      <td>http://t.co/o1Pd0WeV</td>\n",
              "      <td>http://apod.nasa.gov/apod/ap120312.html</td>\n",
              "      <td>1334007030</td>\n",
              "      <td>1334007040</td>\n",
              "      <td>NaN</td>\n",
              "      <td>NaN</td>\n",
              "    </tr>\n",
              "    <tr>\n",
              "      <th>10</th>\n",
              "      <td>Mozilla/5.0 (Windows NT 6.1; WOW64; rv:10.0.2)...</td>\n",
              "      <td>US</td>\n",
              "      <td>1</td>\n",
              "      <td>America/Los_Angeles</td>\n",
              "      <td>WA</td>\n",
              "      <td>vNJS4H</td>\n",
              "      <td>u0uD9q</td>\n",
              "      <td>o_4us71ccioa</td>\n",
              "      <td>en-us,en;q=0.5</td>\n",
              "      <td>1.usa.gov</td>\n",
              "      <td>direct</td>\n",
              "      <td>https://www.nysdot.gov/rexdesign/design/commun...</td>\n",
              "      <td>1334107030</td>\n",
              "      <td>1334107040</td>\n",
              "      <td>Seattle</td>\n",
              "      <td>[47.5951, -122.332603]</td>\n",
              "    </tr>\n",
              "    <tr>\n",
              "      <th>11</th>\n",
              "      <td>Mozilla/5.0 (Macintosh; U; Intel Mac OS X 10.4...</td>\n",
              "      <td>US</td>\n",
              "      <td>0</td>\n",
              "      <td>America/New_York</td>\n",
              "      <td>DC</td>\n",
              "      <td>wG7OIH</td>\n",
              "      <td>A0nRz4</td>\n",
              "      <td>darrellissa</td>\n",
              "      <td>en-us,en;q=0.5</td>\n",
              "      <td>1.usa.gov</td>\n",
              "      <td>http://t.co/ND7SoPyo</td>\n",
              "      <td>http://oversight.house.gov/wp-content/uploads/...</td>\n",
              "      <td>1334207040</td>\n",
              "      <td>1334207043</td>\n",
              "      <td>Washington</td>\n",
              "      <td>[38.937599, -77.092796]</td>\n",
              "    </tr>\n",
              "  </tbody>\n",
              "</table>\n",
              "</div>"
            ],
            "text/plain": [
              "                                                    a     c  nk  \\\n",
              "0   Mozilla/5.0 (Windows NT 6.1; WOW64) AppleWebKi...    US   1   \n",
              "1                              GoogleMaps/RochesterNY    US   0   \n",
              "2   Mozilla/4.0 (Windows NT 6.1; MSIE 8.0; Windows...    US   1   \n",
              "3   Mozilla/5.0 (Macintosh; Intel Mac OS X 10_6_8)...    BR   0   \n",
              "4   Mozilla/5.0 (Windows NT 6.1; WOW64) AppleWebKi...    US   0   \n",
              "5   Mozilla/5.0 (Windows NT 6.1; WOW64) AppleWebKi...    US   0   \n",
              "6   Mozilla/5.0 (Windows NT 5.1) AppleWebKit/535.1...    PL   0   \n",
              "7   Mozilla/5.0 (Windows NT 6.1; rv:2.0.1) Gecko/2...  None   0   \n",
              "8   Opera/9.80 (Ubuntu 14.04.6; Linux zbov; U; en)...  None   0   \n",
              "9   Mozilla/5.0 (Windows NT 6.1; WOW64) AppleWebKi...  None   0   \n",
              "10  Mozilla/5.0 (Windows NT 6.1; WOW64; rv:10.0.2)...    US   1   \n",
              "11  Mozilla/5.0 (Macintosh; U; Intel Mac OS X 10.4...    US   0   \n",
              "\n",
              "                     tz   gr       g       h             l  \\\n",
              "0      America/New_York   MA  A6qOVH  wfLQtf       orofrog   \n",
              "1        America/Denver   UT  mwszkS  mwszkS         bitly   \n",
              "2      America/New_York   DC  xxr3Qb  xxr3Qb         bitly   \n",
              "3     America/Sao_Paulo   27  zCaLwp  zUtuOu      alelex88   \n",
              "4      America/New_York   MA  9b6kNl  9b6kNl         bitly   \n",
              "5      America/New_York   MA  axNK8c  axNK8c         bitly   \n",
              "6         Europe/Warsaw   77  wcndER  zkpJBR      bnjacobs   \n",
              "7                        NaN  wcndER  zkpJBR      bnjacobs   \n",
              "8                        NaN  wcndER  zkpJBR      bnjacobs   \n",
              "9                        NaN  zCaLwp  zUtuOu      alelex88   \n",
              "10  America/Los_Angeles   WA  vNJS4H  u0uD9q  o_4us71ccioa   \n",
              "11     America/New_York   DC  wG7OIH  A0nRz4   darrellissa   \n",
              "\n",
              "                                     al         hh  \\\n",
              "0                        en-US,en;q=0.8  1.usa.gov   \n",
              "1                                   NaN       j.mp   \n",
              "2                                 en-US  1.usa.gov   \n",
              "3                                 pt-br  1.usa.gov   \n",
              "4                        en-US,en;q=0.8     bit.ly   \n",
              "5                        en-US,en;q=0.8     bit.ly   \n",
              "6   pl-PL,pl;q=0.8,en-US;q=0.6,en;q=0.4  1.usa.gov   \n",
              "7               bg,en-us;q=0.7,en;q=0.3  1.usa.gov   \n",
              "8                             en-US, en  1.usa.gov   \n",
              "9   pt-BR,pt;q=0.8,en-US;q=0.6,en;q=0.4  1.usa.gov   \n",
              "10                       en-us,en;q=0.5  1.usa.gov   \n",
              "11                       en-us,en;q=0.5  1.usa.gov   \n",
              "\n",
              "                                                    r  \\\n",
              "0   http://www.facebook.com/l/7AQEFzjSi/1.usa.gov/...   \n",
              "1                            http://www.AwareMap.com/   \n",
              "2                                http://t.co/03elZC4Q   \n",
              "3                                              direct   \n",
              "4                 http://www.shrewsbury-ma.gov/selco/   \n",
              "5                 http://www.shrewsbury-ma.gov/selco/   \n",
              "6   http://plus.url.google.com/url?sa=z&n=13319232...   \n",
              "7                            http://www.facebook.com/   \n",
              "8   http://www.facebook.com/l.php?u=http%3A%2F%2F1...   \n",
              "9                                http://t.co/o1Pd0WeV   \n",
              "10                                             direct   \n",
              "11                               http://t.co/ND7SoPyo   \n",
              "\n",
              "                                                    u           t  \\\n",
              "0         http://www.ncbi.nlm.nih.gov/pubmed/22415991  1333307030   \n",
              "1         http://www.monroecounty.gov/etc/911/rss.php  1331923249   \n",
              "2   http://boxer.senate.gov/en/press/releases/0316...  1333407030   \n",
              "3             http://apod.nasa.gov/apod/ap120312.html  1333507030   \n",
              "4   http://www.shrewsbury-ma.gov/egov/gallery/1341...  1333607030   \n",
              "5   http://www.shrewsbury-ma.gov/egov/gallery/1341...  1333707030   \n",
              "6   http://www.nasa.gov/mission_pages/nustar/main/...  1333807030   \n",
              "7   http://www.nasa.gov/mission_pages/nustar/main/...  1334007036   \n",
              "8   http://www.nasa.gov/mission_pages/nustar/main/...  1333907030   \n",
              "9             http://apod.nasa.gov/apod/ap120312.html  1334007030   \n",
              "10  https://www.nysdot.gov/rexdesign/design/commun...  1334107030   \n",
              "11  http://oversight.house.gov/wp-content/uploads/...  1334207040   \n",
              "\n",
              "             hc          cy                        ll  \n",
              "0    1333307037     Danvers   [42.576698, -70.954903]  \n",
              "1    1308262393       Provo  [40.218102, -111.613297]  \n",
              "2    1333407035  Washington     [38.9007, -77.043098]  \n",
              "3    1333507044        Braz  [-23.549999, -46.616699]  \n",
              "4    1333607039  Shrewsbury   [42.286499, -71.714699]  \n",
              "5    1333707048  Shrewsbury   [42.286499, -71.714699]  \n",
              "6    1333807040       Luban      [51.116699, 15.2833]  \n",
              "7   13340070364         NaN                       NaN  \n",
              "8    1333907042         NaN                       NaN  \n",
              "9    1334007040         NaN                       NaN  \n",
              "10   1334107040     Seattle    [47.5951, -122.332603]  \n",
              "11   1334207043  Washington   [38.937599, -77.092796]  "
            ]
          },
          "execution_count": 4,
          "metadata": {},
          "output_type": "execute_result"
        }
      ],
      "source": [
        "records.head(12)"
      ]
    },
    {
      "cell_type": "code",
      "execution_count": 5,
      "metadata": {},
      "outputs": [],
      "source": [
        "final_df = pd.DataFrame()"
      ]
    },
    {
      "attachments": {},
      "cell_type": "markdown",
      "metadata": {},
      "source": [
        "# Web browser"
      ]
    },
    {
      "cell_type": "code",
      "execution_count": 6,
      "metadata": {},
      "outputs": [],
      "source": [
        "web_browser_list = []\n",
        "for x in records['a']:\n",
        "   web_browser_list.append(httpagentparser.simple_detect(x)[1])"
      ]
    },
    {
      "cell_type": "code",
      "execution_count": 7,
      "metadata": {},
      "outputs": [],
      "source": [
        "final_df['web_browser'] = pd.Series(web_browser_list)"
      ]
    },
    {
      "cell_type": "code",
      "execution_count": 8,
      "metadata": {},
      "outputs": [
        {
          "data": {
            "text/plain": [
              "0                  Chrome 17.0.963.78\n",
              "1                     Unknown Browser\n",
              "2     Microsoft Internet Explorer 8.0\n",
              "3                        Safari 5.1.2\n",
              "4                  Chrome 17.0.963.79\n",
              "5                  Chrome 17.0.963.79\n",
              "6                  Chrome 17.0.963.79\n",
              "7                       Firefox 4.0.1\n",
              "8                         Opera 12.00\n",
              "9                  Chrome 17.0.963.79\n",
              "10                     Firefox 10.0.2\n",
              "11                     Firefox 3.6.27\n",
              "Name: web_browser, dtype: object"
            ]
          },
          "execution_count": 8,
          "metadata": {},
          "output_type": "execute_result"
        }
      ],
      "source": [
        "final_df['web_browser']"
      ]
    },
    {
      "attachments": {},
      "cell_type": "markdown",
      "metadata": {},
      "source": [
        "# Operating system"
      ]
    },
    {
      "cell_type": "code",
      "execution_count": 9,
      "metadata": {},
      "outputs": [],
      "source": [
        "os_list = []\n",
        "for x in records['a']:\n",
        "   os_list.append(httpagentparser.simple_detect(x)[0])"
      ]
    },
    {
      "cell_type": "code",
      "execution_count": 10,
      "metadata": {},
      "outputs": [],
      "source": [
        "final_df['operating_sys'] = pd.Series(os_list)"
      ]
    },
    {
      "cell_type": "code",
      "execution_count": 11,
      "metadata": {},
      "outputs": [
        {
          "data": {
            "text/plain": [
              "0                    Windows 7\n",
              "1                   Unknown OS\n",
              "2                    Windows 7\n",
              "3     MacOS Macintosh X 10.6.8\n",
              "4                    Windows 7\n",
              "5                    Windows 7\n",
              "6                   Windows XP\n",
              "7                    Windows 7\n",
              "8                 Ubuntu Linux\n",
              "9                    Windows 7\n",
              "10                   Windows 7\n",
              "11      MacOS Macintosh X 10.4\n",
              "Name: operating_sys, dtype: object"
            ]
          },
          "execution_count": 11,
          "metadata": {},
          "output_type": "execute_result"
        }
      ],
      "source": [
        "final_df['operating_sys']"
      ]
    },
    {
      "attachments": {},
      "cell_type": "markdown",
      "metadata": {},
      "source": [
        "# from_url"
      ]
    },
    {
      "cell_type": "code",
      "execution_count": 12,
      "metadata": {},
      "outputs": [],
      "source": [
        "final_df['from_url'] = records['r'].str.split(\"/\", expand=True)[:][2].fillna(\"direct\")"
      ]
    },
    {
      "cell_type": "code",
      "execution_count": 13,
      "metadata": {},
      "outputs": [
        {
          "data": {
            "text/plain": [
              "0          www.facebook.com\n",
              "1          www.AwareMap.com\n",
              "2                      t.co\n",
              "3                    direct\n",
              "4     www.shrewsbury-ma.gov\n",
              "5     www.shrewsbury-ma.gov\n",
              "6       plus.url.google.com\n",
              "7          www.facebook.com\n",
              "8          www.facebook.com\n",
              "9                      t.co\n",
              "10                   direct\n",
              "11                     t.co\n",
              "Name: from_url, dtype: object"
            ]
          },
          "execution_count": 13,
          "metadata": {},
          "output_type": "execute_result"
        }
      ],
      "source": [
        "final_df['from_url']"
      ]
    },
    {
      "attachments": {},
      "cell_type": "markdown",
      "metadata": {},
      "source": [
        "# to_url"
      ]
    },
    {
      "cell_type": "code",
      "execution_count": 14,
      "metadata": {},
      "outputs": [],
      "source": [
        "final_df['to_url'] = records['u'].str.split(\"/\", expand=True)[:][2]"
      ]
    },
    {
      "cell_type": "code",
      "execution_count": 15,
      "metadata": {},
      "outputs": [
        {
          "data": {
            "text/plain": [
              "0      www.ncbi.nlm.nih.gov\n",
              "1      www.monroecounty.gov\n",
              "2          boxer.senate.gov\n",
              "3             apod.nasa.gov\n",
              "4     www.shrewsbury-ma.gov\n",
              "5     www.shrewsbury-ma.gov\n",
              "6              www.nasa.gov\n",
              "7              www.nasa.gov\n",
              "8              www.nasa.gov\n",
              "9             apod.nasa.gov\n",
              "10           www.nysdot.gov\n",
              "11      oversight.house.gov\n",
              "Name: to_url, dtype: object"
            ]
          },
          "execution_count": 15,
          "metadata": {},
          "output_type": "execute_result"
        }
      ],
      "source": [
        "final_df['to_url']"
      ]
    },
    {
      "attachments": {},
      "cell_type": "markdown",
      "metadata": {},
      "source": [
        "# City"
      ]
    },
    {
      "cell_type": "code",
      "execution_count": 16,
      "metadata": {},
      "outputs": [],
      "source": [
        "final_df['city'] = records['cy'].fillna('Not found')"
      ]
    },
    {
      "cell_type": "code",
      "execution_count": 17,
      "metadata": {},
      "outputs": [
        {
          "data": {
            "text/plain": [
              "0        Danvers\n",
              "1          Provo\n",
              "2     Washington\n",
              "3           Braz\n",
              "4     Shrewsbury\n",
              "5     Shrewsbury\n",
              "6          Luban\n",
              "7      Not found\n",
              "8      Not found\n",
              "9      Not found\n",
              "10       Seattle\n",
              "11    Washington\n",
              "Name: city, dtype: object"
            ]
          },
          "execution_count": 17,
          "metadata": {},
          "output_type": "execute_result"
        }
      ],
      "source": [
        "final_df['city']"
      ]
    },
    {
      "attachments": {},
      "cell_type": "markdown",
      "metadata": {},
      "source": [
        "# Longitude and Latitude"
      ]
    },
    {
      "cell_type": "code",
      "execution_count": 18,
      "metadata": {},
      "outputs": [],
      "source": [
        "final_df['longitude'] = records['ll'].str[0].fillna('Not found')\n",
        "final_df['latitude'] = records['ll'].str[1].fillna('Not found')"
      ]
    },
    {
      "cell_type": "code",
      "execution_count": 19,
      "metadata": {},
      "outputs": [
        {
          "data": {
            "text/html": [
              "<div>\n",
              "<style scoped>\n",
              "    .dataframe tbody tr th:only-of-type {\n",
              "        vertical-align: middle;\n",
              "    }\n",
              "\n",
              "    .dataframe tbody tr th {\n",
              "        vertical-align: top;\n",
              "    }\n",
              "\n",
              "    .dataframe thead th {\n",
              "        text-align: right;\n",
              "    }\n",
              "</style>\n",
              "<table border=\"1\" class=\"dataframe\">\n",
              "  <thead>\n",
              "    <tr style=\"text-align: right;\">\n",
              "      <th></th>\n",
              "      <th>longitude</th>\n",
              "      <th>latitude</th>\n",
              "    </tr>\n",
              "  </thead>\n",
              "  <tbody>\n",
              "    <tr>\n",
              "      <th>0</th>\n",
              "      <td>42.576698</td>\n",
              "      <td>-70.954903</td>\n",
              "    </tr>\n",
              "    <tr>\n",
              "      <th>1</th>\n",
              "      <td>40.218102</td>\n",
              "      <td>-111.613297</td>\n",
              "    </tr>\n",
              "    <tr>\n",
              "      <th>2</th>\n",
              "      <td>38.9007</td>\n",
              "      <td>-77.043098</td>\n",
              "    </tr>\n",
              "    <tr>\n",
              "      <th>3</th>\n",
              "      <td>-23.549999</td>\n",
              "      <td>-46.616699</td>\n",
              "    </tr>\n",
              "    <tr>\n",
              "      <th>4</th>\n",
              "      <td>42.286499</td>\n",
              "      <td>-71.714699</td>\n",
              "    </tr>\n",
              "    <tr>\n",
              "      <th>5</th>\n",
              "      <td>42.286499</td>\n",
              "      <td>-71.714699</td>\n",
              "    </tr>\n",
              "    <tr>\n",
              "      <th>6</th>\n",
              "      <td>51.116699</td>\n",
              "      <td>15.2833</td>\n",
              "    </tr>\n",
              "    <tr>\n",
              "      <th>7</th>\n",
              "      <td>Not found</td>\n",
              "      <td>Not found</td>\n",
              "    </tr>\n",
              "    <tr>\n",
              "      <th>8</th>\n",
              "      <td>Not found</td>\n",
              "      <td>Not found</td>\n",
              "    </tr>\n",
              "    <tr>\n",
              "      <th>9</th>\n",
              "      <td>Not found</td>\n",
              "      <td>Not found</td>\n",
              "    </tr>\n",
              "    <tr>\n",
              "      <th>10</th>\n",
              "      <td>47.5951</td>\n",
              "      <td>-122.332603</td>\n",
              "    </tr>\n",
              "    <tr>\n",
              "      <th>11</th>\n",
              "      <td>38.937599</td>\n",
              "      <td>-77.092796</td>\n",
              "    </tr>\n",
              "  </tbody>\n",
              "</table>\n",
              "</div>"
            ],
            "text/plain": [
              "    longitude    latitude\n",
              "0   42.576698  -70.954903\n",
              "1   40.218102 -111.613297\n",
              "2     38.9007  -77.043098\n",
              "3  -23.549999  -46.616699\n",
              "4   42.286499  -71.714699\n",
              "5   42.286499  -71.714699\n",
              "6   51.116699     15.2833\n",
              "7   Not found   Not found\n",
              "8   Not found   Not found\n",
              "9   Not found   Not found\n",
              "10    47.5951 -122.332603\n",
              "11  38.937599  -77.092796"
            ]
          },
          "execution_count": 19,
          "metadata": {},
          "output_type": "execute_result"
        }
      ],
      "source": [
        "final_df[['longitude', 'latitude']]"
      ]
    },
    {
      "attachments": {},
      "cell_type": "markdown",
      "metadata": {},
      "source": [
        "# Time zone"
      ]
    },
    {
      "cell_type": "code",
      "execution_count": 20,
      "metadata": {},
      "outputs": [],
      "source": [
        "final_df['time_zone'] = records['tz'].replace('', 'Not found')"
      ]
    },
    {
      "cell_type": "code",
      "execution_count": 21,
      "metadata": {},
      "outputs": [
        {
          "data": {
            "text/plain": [
              "0        America/New_York\n",
              "1          America/Denver\n",
              "2        America/New_York\n",
              "3       America/Sao_Paulo\n",
              "4        America/New_York\n",
              "5        America/New_York\n",
              "6           Europe/Warsaw\n",
              "7               Not found\n",
              "8               Not found\n",
              "9               Not found\n",
              "10    America/Los_Angeles\n",
              "11       America/New_York\n",
              "Name: time_zone, dtype: object"
            ]
          },
          "execution_count": 21,
          "metadata": {},
          "output_type": "execute_result"
        }
      ],
      "source": [
        "final_df['time_zone']"
      ]
    },
    {
      "attachments": {},
      "cell_type": "markdown",
      "metadata": {},
      "source": [
        "# Time in"
      ]
    },
    {
      "cell_type": "code",
      "execution_count": 22,
      "metadata": {},
      "outputs": [],
      "source": [
        "final_df['time_in'] = records['t']"
      ]
    },
    {
      "cell_type": "code",
      "execution_count": 23,
      "metadata": {},
      "outputs": [
        {
          "data": {
            "text/plain": [
              "0     1333307030\n",
              "1     1331923249\n",
              "2     1333407030\n",
              "3     1333507030\n",
              "4     1333607030\n",
              "5     1333707030\n",
              "6     1333807030\n",
              "7     1334007036\n",
              "8     1333907030\n",
              "9     1334007030\n",
              "10    1334107030\n",
              "11    1334207040\n",
              "Name: time_in, dtype: int64"
            ]
          },
          "execution_count": 23,
          "metadata": {},
          "output_type": "execute_result"
        }
      ],
      "source": [
        "final_df['time_in']"
      ]
    },
    {
      "attachments": {},
      "cell_type": "markdown",
      "metadata": {},
      "source": [
        "# Time out"
      ]
    },
    {
      "cell_type": "code",
      "execution_count": 24,
      "metadata": {},
      "outputs": [],
      "source": [
        "final_df['time_out'] = records['hc']"
      ]
    },
    {
      "cell_type": "code",
      "execution_count": 25,
      "metadata": {},
      "outputs": [
        {
          "data": {
            "text/plain": [
              "0      1333307037\n",
              "1      1308262393\n",
              "2      1333407035\n",
              "3      1333507044\n",
              "4      1333607039\n",
              "5      1333707048\n",
              "6      1333807040\n",
              "7     13340070364\n",
              "8      1333907042\n",
              "9      1334007040\n",
              "10     1334107040\n",
              "11     1334207043\n",
              "Name: time_out, dtype: int64"
            ]
          },
          "execution_count": 25,
          "metadata": {},
          "output_type": "execute_result"
        }
      ],
      "source": [
        "final_df['time_out']"
      ]
    },
    {
      "attachments": {},
      "cell_type": "markdown",
      "metadata": {},
      "source": [
        "# Final dataframe"
      ]
    },
    {
      "cell_type": "code",
      "execution_count": 26,
      "metadata": {},
      "outputs": [
        {
          "data": {
            "text/html": [
              "<div>\n",
              "<style scoped>\n",
              "    .dataframe tbody tr th:only-of-type {\n",
              "        vertical-align: middle;\n",
              "    }\n",
              "\n",
              "    .dataframe tbody tr th {\n",
              "        vertical-align: top;\n",
              "    }\n",
              "\n",
              "    .dataframe thead th {\n",
              "        text-align: right;\n",
              "    }\n",
              "</style>\n",
              "<table border=\"1\" class=\"dataframe\">\n",
              "  <thead>\n",
              "    <tr style=\"text-align: right;\">\n",
              "      <th></th>\n",
              "      <th>web_browser</th>\n",
              "      <th>operating_sys</th>\n",
              "      <th>from_url</th>\n",
              "      <th>to_url</th>\n",
              "      <th>city</th>\n",
              "      <th>longitude</th>\n",
              "      <th>latitude</th>\n",
              "      <th>time_zone</th>\n",
              "      <th>time_in</th>\n",
              "      <th>time_out</th>\n",
              "    </tr>\n",
              "  </thead>\n",
              "  <tbody>\n",
              "    <tr>\n",
              "      <th>0</th>\n",
              "      <td>Chrome 17.0.963.78</td>\n",
              "      <td>Windows 7</td>\n",
              "      <td>www.facebook.com</td>\n",
              "      <td>www.ncbi.nlm.nih.gov</td>\n",
              "      <td>Danvers</td>\n",
              "      <td>42.576698</td>\n",
              "      <td>-70.954903</td>\n",
              "      <td>America/New_York</td>\n",
              "      <td>1333307030</td>\n",
              "      <td>1333307037</td>\n",
              "    </tr>\n",
              "    <tr>\n",
              "      <th>1</th>\n",
              "      <td>Unknown Browser</td>\n",
              "      <td>Unknown OS</td>\n",
              "      <td>www.AwareMap.com</td>\n",
              "      <td>www.monroecounty.gov</td>\n",
              "      <td>Provo</td>\n",
              "      <td>40.218102</td>\n",
              "      <td>-111.613297</td>\n",
              "      <td>America/Denver</td>\n",
              "      <td>1331923249</td>\n",
              "      <td>1308262393</td>\n",
              "    </tr>\n",
              "    <tr>\n",
              "      <th>2</th>\n",
              "      <td>Microsoft Internet Explorer 8.0</td>\n",
              "      <td>Windows 7</td>\n",
              "      <td>t.co</td>\n",
              "      <td>boxer.senate.gov</td>\n",
              "      <td>Washington</td>\n",
              "      <td>38.9007</td>\n",
              "      <td>-77.043098</td>\n",
              "      <td>America/New_York</td>\n",
              "      <td>1333407030</td>\n",
              "      <td>1333407035</td>\n",
              "    </tr>\n",
              "    <tr>\n",
              "      <th>3</th>\n",
              "      <td>Safari 5.1.2</td>\n",
              "      <td>MacOS Macintosh X 10.6.8</td>\n",
              "      <td>direct</td>\n",
              "      <td>apod.nasa.gov</td>\n",
              "      <td>Braz</td>\n",
              "      <td>-23.549999</td>\n",
              "      <td>-46.616699</td>\n",
              "      <td>America/Sao_Paulo</td>\n",
              "      <td>1333507030</td>\n",
              "      <td>1333507044</td>\n",
              "    </tr>\n",
              "    <tr>\n",
              "      <th>4</th>\n",
              "      <td>Chrome 17.0.963.79</td>\n",
              "      <td>Windows 7</td>\n",
              "      <td>www.shrewsbury-ma.gov</td>\n",
              "      <td>www.shrewsbury-ma.gov</td>\n",
              "      <td>Shrewsbury</td>\n",
              "      <td>42.286499</td>\n",
              "      <td>-71.714699</td>\n",
              "      <td>America/New_York</td>\n",
              "      <td>1333607030</td>\n",
              "      <td>1333607039</td>\n",
              "    </tr>\n",
              "    <tr>\n",
              "      <th>5</th>\n",
              "      <td>Chrome 17.0.963.79</td>\n",
              "      <td>Windows 7</td>\n",
              "      <td>www.shrewsbury-ma.gov</td>\n",
              "      <td>www.shrewsbury-ma.gov</td>\n",
              "      <td>Shrewsbury</td>\n",
              "      <td>42.286499</td>\n",
              "      <td>-71.714699</td>\n",
              "      <td>America/New_York</td>\n",
              "      <td>1333707030</td>\n",
              "      <td>1333707048</td>\n",
              "    </tr>\n",
              "    <tr>\n",
              "      <th>6</th>\n",
              "      <td>Chrome 17.0.963.79</td>\n",
              "      <td>Windows XP</td>\n",
              "      <td>plus.url.google.com</td>\n",
              "      <td>www.nasa.gov</td>\n",
              "      <td>Luban</td>\n",
              "      <td>51.116699</td>\n",
              "      <td>15.2833</td>\n",
              "      <td>Europe/Warsaw</td>\n",
              "      <td>1333807030</td>\n",
              "      <td>1333807040</td>\n",
              "    </tr>\n",
              "    <tr>\n",
              "      <th>7</th>\n",
              "      <td>Firefox 4.0.1</td>\n",
              "      <td>Windows 7</td>\n",
              "      <td>www.facebook.com</td>\n",
              "      <td>www.nasa.gov</td>\n",
              "      <td>Not found</td>\n",
              "      <td>Not found</td>\n",
              "      <td>Not found</td>\n",
              "      <td>Not found</td>\n",
              "      <td>1334007036</td>\n",
              "      <td>13340070364</td>\n",
              "    </tr>\n",
              "    <tr>\n",
              "      <th>8</th>\n",
              "      <td>Opera 12.00</td>\n",
              "      <td>Ubuntu Linux</td>\n",
              "      <td>www.facebook.com</td>\n",
              "      <td>www.nasa.gov</td>\n",
              "      <td>Not found</td>\n",
              "      <td>Not found</td>\n",
              "      <td>Not found</td>\n",
              "      <td>Not found</td>\n",
              "      <td>1333907030</td>\n",
              "      <td>1333907042</td>\n",
              "    </tr>\n",
              "    <tr>\n",
              "      <th>9</th>\n",
              "      <td>Chrome 17.0.963.79</td>\n",
              "      <td>Windows 7</td>\n",
              "      <td>t.co</td>\n",
              "      <td>apod.nasa.gov</td>\n",
              "      <td>Not found</td>\n",
              "      <td>Not found</td>\n",
              "      <td>Not found</td>\n",
              "      <td>Not found</td>\n",
              "      <td>1334007030</td>\n",
              "      <td>1334007040</td>\n",
              "    </tr>\n",
              "    <tr>\n",
              "      <th>10</th>\n",
              "      <td>Firefox 10.0.2</td>\n",
              "      <td>Windows 7</td>\n",
              "      <td>direct</td>\n",
              "      <td>www.nysdot.gov</td>\n",
              "      <td>Seattle</td>\n",
              "      <td>47.5951</td>\n",
              "      <td>-122.332603</td>\n",
              "      <td>America/Los_Angeles</td>\n",
              "      <td>1334107030</td>\n",
              "      <td>1334107040</td>\n",
              "    </tr>\n",
              "    <tr>\n",
              "      <th>11</th>\n",
              "      <td>Firefox 3.6.27</td>\n",
              "      <td>MacOS Macintosh X 10.4</td>\n",
              "      <td>t.co</td>\n",
              "      <td>oversight.house.gov</td>\n",
              "      <td>Washington</td>\n",
              "      <td>38.937599</td>\n",
              "      <td>-77.092796</td>\n",
              "      <td>America/New_York</td>\n",
              "      <td>1334207040</td>\n",
              "      <td>1334207043</td>\n",
              "    </tr>\n",
              "  </tbody>\n",
              "</table>\n",
              "</div>"
            ],
            "text/plain": [
              "                        web_browser             operating_sys  \\\n",
              "0                Chrome 17.0.963.78                 Windows 7   \n",
              "1                   Unknown Browser                Unknown OS   \n",
              "2   Microsoft Internet Explorer 8.0                 Windows 7   \n",
              "3                      Safari 5.1.2  MacOS Macintosh X 10.6.8   \n",
              "4                Chrome 17.0.963.79                 Windows 7   \n",
              "5                Chrome 17.0.963.79                 Windows 7   \n",
              "6                Chrome 17.0.963.79                Windows XP   \n",
              "7                     Firefox 4.0.1                 Windows 7   \n",
              "8                       Opera 12.00              Ubuntu Linux   \n",
              "9                Chrome 17.0.963.79                 Windows 7   \n",
              "10                   Firefox 10.0.2                 Windows 7   \n",
              "11                   Firefox 3.6.27    MacOS Macintosh X 10.4   \n",
              "\n",
              "                 from_url                 to_url        city  longitude  \\\n",
              "0        www.facebook.com   www.ncbi.nlm.nih.gov     Danvers  42.576698   \n",
              "1        www.AwareMap.com   www.monroecounty.gov       Provo  40.218102   \n",
              "2                    t.co       boxer.senate.gov  Washington    38.9007   \n",
              "3                  direct          apod.nasa.gov        Braz -23.549999   \n",
              "4   www.shrewsbury-ma.gov  www.shrewsbury-ma.gov  Shrewsbury  42.286499   \n",
              "5   www.shrewsbury-ma.gov  www.shrewsbury-ma.gov  Shrewsbury  42.286499   \n",
              "6     plus.url.google.com           www.nasa.gov       Luban  51.116699   \n",
              "7        www.facebook.com           www.nasa.gov   Not found  Not found   \n",
              "8        www.facebook.com           www.nasa.gov   Not found  Not found   \n",
              "9                    t.co          apod.nasa.gov   Not found  Not found   \n",
              "10                 direct         www.nysdot.gov     Seattle    47.5951   \n",
              "11                   t.co    oversight.house.gov  Washington  38.937599   \n",
              "\n",
              "      latitude            time_zone     time_in     time_out  \n",
              "0   -70.954903     America/New_York  1333307030   1333307037  \n",
              "1  -111.613297       America/Denver  1331923249   1308262393  \n",
              "2   -77.043098     America/New_York  1333407030   1333407035  \n",
              "3   -46.616699    America/Sao_Paulo  1333507030   1333507044  \n",
              "4   -71.714699     America/New_York  1333607030   1333607039  \n",
              "5   -71.714699     America/New_York  1333707030   1333707048  \n",
              "6      15.2833        Europe/Warsaw  1333807030   1333807040  \n",
              "7    Not found            Not found  1334007036  13340070364  \n",
              "8    Not found            Not found  1333907030   1333907042  \n",
              "9    Not found            Not found  1334007030   1334007040  \n",
              "10 -122.332603  America/Los_Angeles  1334107030   1334107040  \n",
              "11  -77.092796     America/New_York  1334207040   1334207043  "
            ]
          },
          "execution_count": 26,
          "metadata": {},
          "output_type": "execute_result"
        }
      ],
      "source": [
        "final_df.head(12)"
      ]
    },
    {
      "cell_type": "code",
      "execution_count": 27,
      "metadata": {},
      "outputs": [],
      "source": [
        "final_df.to_csv('final_csv.csv')"
      ]
    }
  ],
  "metadata": {
    "colab": {
      "provenance": []
    },
    "kernelspec": {
      "display_name": "base",
      "language": "python",
      "name": "python3"
    },
    "language_info": {
      "codemirror_mode": {
        "name": "ipython",
        "version": 3
      },
      "file_extension": ".py",
      "mimetype": "text/x-python",
      "name": "python",
      "nbconvert_exporter": "python",
      "pygments_lexer": "ipython3",
      "version": "3.8.8"
    },
    "vscode": {
      "interpreter": {
        "hash": "38b0c74fe65040b19335d0e0e2f77168a65883c42893cb3cde970d2b2b83e0e1"
      }
    }
  },
  "nbformat": 4,
  "nbformat_minor": 0
}
